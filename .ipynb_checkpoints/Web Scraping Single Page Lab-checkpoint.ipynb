{
 "cells": [
  {
   "cell_type": "code",
   "execution_count": 4,
   "id": "a2915ea2",
   "metadata": {},
   "outputs": [],
   "source": [
    "from bs4 import BeautifulSoup\n",
    "import requests\n",
    "import pandas as pd"
   ]
  },
  {
   "cell_type": "code",
   "execution_count": 5,
   "id": "d142ed11",
   "metadata": {},
   "outputs": [],
   "source": [
    "url = \"https://www.popvortex.com/music/charts/top-100-songs.php\""
   ]
  },
  {
   "cell_type": "code",
   "execution_count": 6,
   "id": "4f1b78f4",
   "metadata": {},
   "outputs": [
    {
     "data": {
      "text/plain": [
       "200"
      ]
     },
     "execution_count": 6,
     "metadata": {},
     "output_type": "execute_result"
    }
   ],
   "source": [
    "response = requests.get(url)\n",
    "response.status_code"
   ]
  },
  {
   "cell_type": "code",
   "execution_count": 7,
   "id": "a087adcd",
   "metadata": {},
   "outputs": [],
   "source": [
    "#parse html (create the 'soup')\n",
    "soup = BeautifulSoup(response.content, \"html.parser\")"
   ]
  },
  {
   "cell_type": "code",
   "execution_count": 8,
   "id": "0f1c6de4",
   "metadata": {},
   "outputs": [],
   "source": [
    "# print(soup.prettify())"
   ]
  },
  {
   "cell_type": "code",
   "execution_count": 9,
   "id": "c1be92a4",
   "metadata": {},
   "outputs": [],
   "source": [
    "#chart-position-1 > div.chart-content.col-xs-12.col-sm-8 > p"
   ]
  },
  {
   "cell_type": "code",
   "execution_count": 10,
   "id": "cf97149f",
   "metadata": {},
   "outputs": [
    {
     "data": {
      "text/plain": [
       "[<p class=\"title-artist\"><cite class=\"title\">About Damn Time</cite><em class=\"artist\">Lizzo</em></p>]"
      ]
     },
     "execution_count": 10,
     "metadata": {},
     "output_type": "execute_result"
    }
   ],
   "source": [
    "soup.select(\"#chart-position-1 > div.chart-content.col-xs-12.col-sm-8 > p\")"
   ]
  },
  {
   "cell_type": "code",
   "execution_count": 11,
   "id": "057e5744",
   "metadata": {},
   "outputs": [],
   "source": [
    "# soup.select(\"div.chart-content.col-xs-12.col-sm-8 > p\") "
   ]
  },
  {
   "cell_type": "code",
   "execution_count": 12,
   "id": "a242bfb5",
   "metadata": {},
   "outputs": [
    {
     "data": {
      "text/plain": [
       "<p class=\"title-artist\"><cite class=\"title\">About Damn Time</cite><em class=\"artist\">Lizzo</em></p>"
      ]
     },
     "execution_count": 12,
     "metadata": {},
     "output_type": "execute_result"
    }
   ],
   "source": [
    "soup.select(\"div.chart-content.col-xs-12.col-sm-8 > p\")[0]"
   ]
  },
  {
   "cell_type": "code",
   "execution_count": 13,
   "id": "216a0b70",
   "metadata": {},
   "outputs": [
    {
     "data": {
      "text/plain": [
       "'About Damn TimeLizzo'"
      ]
     },
     "execution_count": 13,
     "metadata": {},
     "output_type": "execute_result"
    }
   ],
   "source": [
    "soup.select(\"div.chart-content.col-xs-12.col-sm-8 > p\")[0].get_text()"
   ]
  },
  {
   "cell_type": "code",
   "execution_count": 14,
   "id": "4d8316a7",
   "metadata": {},
   "outputs": [],
   "source": [
    "# soup.select(\"p.title-artist\")"
   ]
  },
  {
   "cell_type": "code",
   "execution_count": 15,
   "id": "b97b3657",
   "metadata": {},
   "outputs": [
    {
     "data": {
      "text/plain": [
       "'About Damn Time'"
      ]
     },
     "execution_count": 15,
     "metadata": {},
     "output_type": "execute_result"
    }
   ],
   "source": [
    "soup.select(\"p.title-artist cite.title\")[0].get_text()"
   ]
  },
  {
   "cell_type": "code",
   "execution_count": 16,
   "id": "a70dc27d",
   "metadata": {},
   "outputs": [
    {
     "data": {
      "text/plain": [
       "'Lizzo'"
      ]
     },
     "execution_count": 16,
     "metadata": {},
     "output_type": "execute_result"
    }
   ],
   "source": [
    "soup.select(\"p.title-artist em.artist\")[0].get_text()"
   ]
  },
  {
   "cell_type": "code",
   "execution_count": 17,
   "id": "587d68f0",
   "metadata": {},
   "outputs": [],
   "source": [
    "title=[]\n",
    "artist=[]\n",
    "\n",
    "\n",
    "title_list=soup.select(\"p.title-artist cite.title\")\n",
    "artist_list=soup.select(\"p.title-artist em.artist\")\n",
    "\n",
    "num_iter = len(soup.select(\"p.title-artist\"))\n",
    "\n",
    "for i in range(num_iter):\n",
    "    title.append(title_list[i].get_text())\n",
    "    artist.append(artist_list[i].get_text())\n",
    "\n",
    "# print (title)\n",
    "# print (artist)"
   ]
  },
  {
   "cell_type": "code",
   "execution_count": 18,
   "id": "9852abdb",
   "metadata": {},
   "outputs": [],
   "source": [
    "songs = pd.DataFrame({\"title\":title,\n",
    "                       \"artist\":artist\n",
    "                      })"
   ]
  },
  {
   "cell_type": "code",
   "execution_count": 20,
   "id": "2b2873e2",
   "metadata": {},
   "outputs": [],
   "source": [
    "# songs.head()"
   ]
  },
  {
   "cell_type": "markdown",
   "id": "4de19197",
   "metadata": {},
   "source": [
    "# second lab"
   ]
  },
  {
   "cell_type": "code",
   "execution_count": 21,
   "id": "0444ac27",
   "metadata": {},
   "outputs": [],
   "source": [
    "url = \"https://www.officialcharts.com/charts/singles-chart/\""
   ]
  },
  {
   "cell_type": "code",
   "execution_count": 22,
   "id": "085edbda",
   "metadata": {},
   "outputs": [
    {
     "data": {
      "text/plain": [
       "200"
      ]
     },
     "execution_count": 22,
     "metadata": {},
     "output_type": "execute_result"
    }
   ],
   "source": [
    "response = requests.get(url)\n",
    "response.status_code"
   ]
  },
  {
   "cell_type": "code",
   "execution_count": 23,
   "id": "a0db1c7c",
   "metadata": {},
   "outputs": [],
   "source": [
    "soup = BeautifulSoup(response.content, \"html.parser\")"
   ]
  },
  {
   "cell_type": "code",
   "execution_count": 24,
   "id": "1407b83e",
   "metadata": {},
   "outputs": [],
   "source": [
    "# print(soup.prettify())"
   ]
  },
  {
   "cell_type": "code",
   "execution_count": 25,
   "id": "2e13558e",
   "metadata": {},
   "outputs": [
    {
     "name": "stdout",
     "output_type": "stream",
     "text": [
      "AFRAID TO FEEL\n"
     ]
    }
   ],
   "source": [
    "print(soup.select(\"div.title a\")[0].get_text())"
   ]
  },
  {
   "cell_type": "code",
   "execution_count": 26,
   "id": "7adf0746",
   "metadata": {},
   "outputs": [
    {
     "name": "stdout",
     "output_type": "stream",
     "text": [
      "LF SYSTEM\n"
     ]
    }
   ],
   "source": [
    "print(soup.select(\"div.artist a\")[0].get_text())"
   ]
  },
  {
   "cell_type": "code",
   "execution_count": 27,
   "id": "2e13f57c",
   "metadata": {},
   "outputs": [],
   "source": [
    "title2=[]\n",
    "artist2=[]\n",
    "\n",
    "\n",
    "title_list2=soup.select(\"div.title a\")\n",
    "artist_list2=soup.select(\"div.artist a\")\n",
    "\n",
    "num_iter2 = len(soup.select(\"div.artist\"))\n",
    "\n",
    "for i in range(num_iter2):\n",
    "    title2.append(title_list2[i].get_text())\n",
    "    artist2.append(artist_list2[i].get_text())\n",
    "\n",
    "# print (title2)\n",
    "# print (artist2)"
   ]
  },
  {
   "cell_type": "code",
   "execution_count": 28,
   "id": "87d88919",
   "metadata": {},
   "outputs": [],
   "source": [
    "songs2 = pd.DataFrame({\"title\":title2,\n",
    "                       \"artist\":artist2\n",
    "                      })"
   ]
  },
  {
   "cell_type": "code",
   "execution_count": 29,
   "id": "6eeaddd1",
   "metadata": {},
   "outputs": [],
   "source": [
    "# songs2.head()"
   ]
  },
  {
   "cell_type": "code",
   "execution_count": null,
   "id": "c6fdd818",
   "metadata": {},
   "outputs": [],
   "source": [
    "# FBI"
   ]
  },
  {
   "cell_type": "code",
   "execution_count": 30,
   "id": "56c630dd",
   "metadata": {},
   "outputs": [],
   "source": [
    "url=\"https://www.fbi.gov/wanted/topten\""
   ]
  },
  {
   "cell_type": "code",
   "execution_count": 31,
   "id": "fe719804",
   "metadata": {},
   "outputs": [
    {
     "data": {
      "text/plain": [
       "200"
      ]
     },
     "execution_count": 31,
     "metadata": {},
     "output_type": "execute_result"
    }
   ],
   "source": [
    "response = requests.get(url)\n",
    "response.status_code"
   ]
  },
  {
   "cell_type": "code",
   "execution_count": 32,
   "id": "3631e900",
   "metadata": {},
   "outputs": [],
   "source": [
    "soup = BeautifulSoup(response.content, \"html.parser\")\n",
    "# print(soup.prettify())"
   ]
  },
  {
   "cell_type": "code",
   "execution_count": 33,
   "id": "2288941a",
   "metadata": {},
   "outputs": [
    {
     "name": "stdout",
     "output_type": "stream",
     "text": [
      "[<a href=\"https://www.fbi.gov/wanted/topten/jason-derek-brown\">JASON DEREK BROWN</a>]\n"
     ]
    }
   ],
   "source": [
    "print(soup.select(\"#query-results-0f737222c5054a81a120bce207b0446a > ul > li:nth-child(1) > h3 > a \"))"
   ]
  },
  {
   "cell_type": "code",
   "execution_count": 34,
   "id": "7ccd0835",
   "metadata": {},
   "outputs": [
    {
     "name": "stdout",
     "output_type": "stream",
     "text": [
      "JASON DEREK BROWN\n"
     ]
    }
   ],
   "source": [
    "print(soup.select(\"h3.title a\")[0].get_text())"
   ]
  },
  {
   "cell_type": "code",
   "execution_count": 35,
   "id": "11fe9ab9",
   "metadata": {},
   "outputs": [
    {
     "name": "stdout",
     "output_type": "stream",
     "text": [
      "['JASON DEREK BROWN', 'RUJA IGNATOVA', 'ARNOLDO JIMENEZ', 'ALEXIS FLORES', 'JOSE RODOLFO VILLARREAL-HERNANDEZ', 'YULAN ADONAY ARCHAGA CARIAS', 'RAFAEL CARO-QUINTERO', 'EUGENE PALMER', 'BHADRESHKUMAR CHETANBHAI PATEL', 'ALEJANDRO ROSALES CASTILLO']\n"
     ]
    }
   ],
   "source": [
    "names=[]\n",
    "\n",
    "name_list=soup.select(\"h3.title a\")\n",
    "\n",
    "num_iter3 = len(soup.select(\"h3.title a\"))\n",
    "\n",
    "for i in range(num_iter3):\n",
    "    names.append(name_list[i].get_text())\n",
    "\n",
    "\n",
    "print (names)"
   ]
  },
  {
   "cell_type": "code",
   "execution_count": 36,
   "id": "45590339",
   "metadata": {},
   "outputs": [],
   "source": [
    "wanted = pd.DataFrame({\"name\":names})"
   ]
  },
  {
   "cell_type": "code",
   "execution_count": 37,
   "id": "b957e1fd",
   "metadata": {},
   "outputs": [],
   "source": [
    "# wanted.head()"
   ]
  },
  {
   "cell_type": "code",
   "execution_count": 38,
   "id": "088596a4",
   "metadata": {},
   "outputs": [],
   "source": [
    "# languages"
   ]
  },
  {
   "cell_type": "code",
   "execution_count": 39,
   "id": "09a2ab6e",
   "metadata": {},
   "outputs": [
    {
     "data": {
      "text/plain": [
       "200"
      ]
     },
     "execution_count": 39,
     "metadata": {},
     "output_type": "execute_result"
    }
   ],
   "source": [
    "url = \"https://en.wikipedia.org/wiki/List_of_languages_by_number_of_native_speakers\"\n",
    "response = requests.get(url)\n",
    "response.status_code"
   ]
  },
  {
   "cell_type": "code",
   "execution_count": 40,
   "id": "a9493d70",
   "metadata": {},
   "outputs": [],
   "source": [
    "soup = BeautifulSoup(response.content, \"html.parser\")\n",
    "# print(soup.prettify())"
   ]
  },
  {
   "cell_type": "code",
   "execution_count": 41,
   "id": "a4f2fa6a",
   "metadata": {},
   "outputs": [],
   "source": [
    "# print(soup.select(\"td a\"))"
   ]
  },
  {
   "cell_type": "code",
   "execution_count": 42,
   "id": "44fdb165",
   "metadata": {},
   "outputs": [
    {
     "name": "stdout",
     "output_type": "stream",
     "text": [
      "['Mandarin Chinese', 'Sino-Tibetan', 'Sinitic', 'Spanish', 'Indo-European', 'Romance', 'English', 'Indo-European', 'Germanic', 'Hindi']\n"
     ]
    }
   ],
   "source": [
    "lang=[]\n",
    "lang_list=soup.select(\"td a\")\n",
    "num_iter4 = len(soup.select(\"td a\"))\n",
    "for i in range(num_iter4):\n",
    "    lang.append(lang_list[i].get_text())\n",
    "print(lang[:10])\n",
    "top10 = lang[:10]\n",
    "# top10"
   ]
  },
  {
   "cell_type": "code",
   "execution_count": 43,
   "id": "66aecb3d",
   "metadata": {},
   "outputs": [],
   "source": [
    "top_10 = pd.DataFrame({\"language\":top10})\n",
    "# top_10"
   ]
  },
  {
   "cell_type": "code",
   "execution_count": null,
   "id": "6c5123b5",
   "metadata": {},
   "outputs": [],
   "source": []
  }
 ],
 "metadata": {
  "kernelspec": {
   "display_name": "Python 3 (ipykernel)",
   "language": "python",
   "name": "python3"
  },
  "language_info": {
   "codemirror_mode": {
    "name": "ipython",
    "version": 3
   },
   "file_extension": ".py",
   "mimetype": "text/x-python",
   "name": "python",
   "nbconvert_exporter": "python",
   "pygments_lexer": "ipython3",
   "version": "3.9.7"
  }
 },
 "nbformat": 4,
 "nbformat_minor": 5
}
