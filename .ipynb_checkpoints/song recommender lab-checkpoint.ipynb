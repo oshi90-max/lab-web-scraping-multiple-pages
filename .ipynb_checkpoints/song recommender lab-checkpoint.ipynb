{
 "cells": [
  {
   "cell_type": "code",
   "execution_count": 1,
   "id": "e36f40e2",
   "metadata": {},
   "outputs": [],
   "source": [
    "from bs4 import BeautifulSoup\n",
    "import requests\n",
    "import pandas as pd\n",
    "import random"
   ]
  },
  {
   "cell_type": "code",
   "execution_count": 2,
   "id": "095f592e",
   "metadata": {},
   "outputs": [],
   "source": [
    "url = \"https://www.popvortex.com/music/charts/top-100-songs.php\""
   ]
  },
  {
   "cell_type": "code",
   "execution_count": 3,
   "id": "8d4c5924",
   "metadata": {},
   "outputs": [
    {
     "data": {
      "text/plain": [
       "200"
      ]
     },
     "execution_count": 3,
     "metadata": {},
     "output_type": "execute_result"
    }
   ],
   "source": [
    "response = requests.get(url)\n",
    "response.status_code"
   ]
  },
  {
   "cell_type": "code",
   "execution_count": 4,
   "id": "fe7f83cb",
   "metadata": {},
   "outputs": [],
   "source": [
    "soup = BeautifulSoup(response.content, \"html.parser\")"
   ]
  },
  {
   "cell_type": "code",
   "execution_count": 5,
   "id": "58c45ae5",
   "metadata": {},
   "outputs": [],
   "source": [
    "title=[]\n",
    "artist=[]\n",
    "\n",
    "\n",
    "title_list=soup.select(\"p.title-artist cite.title\")\n",
    "artist_list=soup.select(\"p.title-artist em.artist\")\n",
    "\n",
    "num_iter = len(soup.select(\"p.title-artist\"))\n",
    "\n",
    "for i in range(num_iter):\n",
    "    title.append(title_list[i].get_text())\n",
    "    artist.append(artist_list[i].get_text())"
   ]
  },
  {
   "cell_type": "code",
   "execution_count": 6,
   "id": "1132c94c",
   "metadata": {},
   "outputs": [],
   "source": [
    "hot_songs = pd.DataFrame({\"title\":title,\n",
    "                       \"artist\":artist})"
   ]
  },
  {
   "cell_type": "code",
   "execution_count": null,
   "id": "1e725d24",
   "metadata": {},
   "outputs": [],
   "source": [
    "hot_songs.head()"
   ]
  },
  {
   "cell_type": "code",
   "execution_count": 7,
   "id": "67155f7e",
   "metadata": {},
   "outputs": [],
   "source": [
    "hot_songs['title'] = hot_songs['title'].str.lower()\n",
    "hot_songs['artist'] = hot_songs['artist'].str.lower()"
   ]
  },
  {
   "cell_type": "code",
   "execution_count": 8,
   "id": "f32ac5fa",
   "metadata": {},
   "outputs": [],
   "source": [
    "# the function is taken from: https://albertoviciana.medium.com/my-first-song-recommender-96994af6d6bc\n",
    "\n",
    "\n",
    "def hot():\n",
    "    random_song=random.choice(hot_songs['title'])\n",
    "    user_input = input ('Choose a song you like:')\n",
    "    \n",
    "    if user_input.lower() not in list(hot_songs['title']):\n",
    "        print(\"Sorry, I have no recommendation\")\n",
    "    else:\n",
    "        print(\"If you like the song \" + \"'\" + user_input + \"'\" + \" then listen to this next: \" + \"'\" + random_song + \"'\")        "
   ]
  },
  {
   "cell_type": "code",
   "execution_count": null,
   "id": "9789cee8",
   "metadata": {},
   "outputs": [],
   "source": [
    "hot()"
   ]
  },
  {
   "cell_type": "code",
   "execution_count": null,
   "id": "2ba2427d",
   "metadata": {},
   "outputs": [],
   "source": [
    "hot()"
   ]
  },
  {
   "cell_type": "code",
   "execution_count": null,
   "id": "8441e0a1",
   "metadata": {},
   "outputs": [],
   "source": []
  },
  {
   "cell_type": "code",
   "execution_count": 9,
   "id": "fc7b6fbf",
   "metadata": {},
   "outputs": [],
   "source": [
    "import spotipy\n",
    "from spotipy.oauth2 import SpotifyClientCredentials"
   ]
  },
  {
   "cell_type": "code",
   "execution_count": 10,
   "id": "2cbb4ce4",
   "metadata": {},
   "outputs": [],
   "source": [
    "secrets_file = open(\"secrets.txt\",\"r\")"
   ]
  },
  {
   "cell_type": "code",
   "execution_count": 11,
   "id": "dfb23d4f",
   "metadata": {},
   "outputs": [],
   "source": [
    "string = secrets_file.read()"
   ]
  },
  {
   "cell_type": "code",
   "execution_count": null,
   "id": "b9ea3b63",
   "metadata": {},
   "outputs": [],
   "source": [
    "string"
   ]
  },
  {
   "cell_type": "code",
   "execution_count": 12,
   "id": "fafe0f75",
   "metadata": {},
   "outputs": [
    {
     "data": {
      "text/plain": [
       "['cid:f02b14fe9c4345edabf9b407b3b27756',\n",
       " 'csecret:08bf95d234ad48c2abca8afb6356fdcf']"
      ]
     },
     "execution_count": 12,
     "metadata": {},
     "output_type": "execute_result"
    }
   ],
   "source": [
    "string.split('\\n')"
   ]
  },
  {
   "cell_type": "code",
   "execution_count": 13,
   "id": "24cb9091",
   "metadata": {},
   "outputs": [],
   "source": [
    "secrets_dict={}\n",
    "for line in string.split('\\n'):\n",
    "    if len(line) > 0:\n",
    "        secrets_dict[line.split(':')[0]]=line.split(':')[1]"
   ]
  },
  {
   "cell_type": "code",
   "execution_count": 14,
   "id": "faf694cc",
   "metadata": {},
   "outputs": [
    {
     "data": {
      "text/plain": [
       "{'cid': 'f02b14fe9c4345edabf9b407b3b27756',\n",
       " 'csecret': '08bf95d234ad48c2abca8afb6356fdcf'}"
      ]
     },
     "execution_count": 14,
     "metadata": {},
     "output_type": "execute_result"
    }
   ],
   "source": [
    "secrets_dict"
   ]
  },
  {
   "cell_type": "code",
   "execution_count": 15,
   "id": "414fe072",
   "metadata": {},
   "outputs": [],
   "source": [
    "import spotipy\n",
    "from spotipy.oauth2 import SpotifyClientCredentials\n",
    "\n",
    "#Initialize SpotiPy with user credentials\n",
    "sp = spotipy.Spotify(auth_manager=SpotifyClientCredentials(client_id=secrets_dict['cid'],\n",
    "                                                           client_secret=secrets_dict['csecret']))"
   ]
  },
  {
   "cell_type": "code",
   "execution_count": 16,
   "id": "531f9cdf",
   "metadata": {},
   "outputs": [],
   "source": [
    "from random import randint\n",
    "from time import sleep\n",
    "\n",
    "def get_playlist_tracks(playlist_id):\n",
    "    results = sp.user_playlist_tracks(\"spotify\",playlist_id)\n",
    "    tracks = results['items']\n",
    "    while results['next']!=None:\n",
    "        results = sp.next(results)\n",
    "        tracks = tracks + results['items']\n",
    "        sleep(randint(1,3))\n",
    "    return tracks"
   ]
  },
  {
   "cell_type": "code",
   "execution_count": 17,
   "id": "ce69a543",
   "metadata": {},
   "outputs": [
    {
     "data": {
      "text/plain": [
       "10000"
      ]
     },
     "execution_count": 17,
     "metadata": {},
     "output_type": "execute_result"
    }
   ],
   "source": [
    "all_tracks = get_playlist_tracks(\"1G8IpkZKobrIlXcVPoSIuf\")\n",
    "len(all_tracks)"
   ]
  },
  {
   "cell_type": "code",
   "execution_count": 18,
   "id": "b03f930f",
   "metadata": {},
   "outputs": [
    {
     "data": {
      "text/plain": [
       "{'external_urls': {'spotify': 'https://open.spotify.com/artist/74ASZWbe4lXaubB36ztrGX'},\n",
       " 'href': 'https://api.spotify.com/v1/artists/74ASZWbe4lXaubB36ztrGX',\n",
       " 'id': '74ASZWbe4lXaubB36ztrGX',\n",
       " 'name': 'Bob Dylan',\n",
       " 'type': 'artist',\n",
       " 'uri': 'spotify:artist:74ASZWbe4lXaubB36ztrGX'}"
      ]
     },
     "execution_count": 18,
     "metadata": {},
     "output_type": "execute_result"
    }
   ],
   "source": [
    "all_tracks[0]['track']['artists'][0]"
   ]
  },
  {
   "cell_type": "code",
   "execution_count": 19,
   "id": "25e8cadb",
   "metadata": {},
   "outputs": [
    {
     "data": {
      "text/plain": [
       "'Bob Dylan'"
      ]
     },
     "execution_count": 19,
     "metadata": {},
     "output_type": "execute_result"
    }
   ],
   "source": [
    "all_tracks[0]['track']['artists'][0]['name']"
   ]
  },
  {
   "cell_type": "code",
   "execution_count": 20,
   "id": "985dd005",
   "metadata": {},
   "outputs": [
    {
     "data": {
      "text/plain": [
       "'Like a Rolling Stone'"
      ]
     },
     "execution_count": 20,
     "metadata": {},
     "output_type": "execute_result"
    }
   ],
   "source": [
    "all_tracks[0]['track']['name']"
   ]
  },
  {
   "cell_type": "code",
   "execution_count": 21,
   "id": "f75b62bf",
   "metadata": {},
   "outputs": [
    {
     "data": {
      "text/plain": [
       "'spotify:track:3AhXZa8sUQht0UEdBJgpGc'"
      ]
     },
     "execution_count": 21,
     "metadata": {},
     "output_type": "execute_result"
    }
   ],
   "source": [
    "all_tracks[0]['track']['uri']"
   ]
  },
  {
   "cell_type": "code",
   "execution_count": 22,
   "id": "256e5fd1",
   "metadata": {},
   "outputs": [
    {
     "data": {
      "text/plain": [
       "dict_keys(['added_at', 'added_by', 'is_local', 'primary_color', 'track', 'video_thumbnail'])"
      ]
     },
     "execution_count": 22,
     "metadata": {},
     "output_type": "execute_result"
    }
   ],
   "source": [
    "all_tracks[0].keys()"
   ]
  },
  {
   "cell_type": "code",
   "execution_count": 23,
   "id": "bc605be5",
   "metadata": {},
   "outputs": [
    {
     "data": {
      "text/plain": [
       "'spotify:track:3AhXZa8sUQht0UEdBJgpGc'"
      ]
     },
     "execution_count": 23,
     "metadata": {},
     "output_type": "execute_result"
    }
   ],
   "source": [
    "all_tracks[0]['track']['uri']"
   ]
  },
  {
   "cell_type": "code",
   "execution_count": 24,
   "id": "85a5f032",
   "metadata": {},
   "outputs": [],
   "source": [
    "playlist_uri=[]"
   ]
  },
  {
   "cell_type": "code",
   "execution_count": 25,
   "id": "7e44dafa",
   "metadata": {},
   "outputs": [],
   "source": [
    "for i in range(len(all_tracks)):\n",
    "    try:\n",
    "        playlist_uri.append(all_tracks[i]['track']['uri'])\n",
    "    except:\n",
    "        playlist_uri.append('none')"
   ]
  },
  {
   "cell_type": "code",
   "execution_count": 26,
   "id": "91c29beb",
   "metadata": {},
   "outputs": [
    {
     "data": {
      "text/plain": [
       "10000"
      ]
     },
     "execution_count": 26,
     "metadata": {},
     "output_type": "execute_result"
    }
   ],
   "source": [
    "len(playlist_uri)"
   ]
  },
  {
   "cell_type": "code",
   "execution_count": 27,
   "id": "b6d49047",
   "metadata": {},
   "outputs": [],
   "source": [
    "playlist_artist=[]"
   ]
  },
  {
   "cell_type": "code",
   "execution_count": 28,
   "id": "4437ebc8",
   "metadata": {},
   "outputs": [],
   "source": [
    "for i in range(len(all_tracks)):\n",
    "    try:\n",
    "        playlist_artist.append(all_tracks[i]['track']['artists'][0]['name'])\n",
    "    except:\n",
    "        playlist_artist.append('none')"
   ]
  },
  {
   "cell_type": "code",
   "execution_count": 29,
   "id": "0d52b4db",
   "metadata": {},
   "outputs": [
    {
     "data": {
      "text/plain": [
       "10000"
      ]
     },
     "execution_count": 29,
     "metadata": {},
     "output_type": "execute_result"
    }
   ],
   "source": [
    "len(playlist_artist)"
   ]
  },
  {
   "cell_type": "code",
   "execution_count": 30,
   "id": "051f62f7",
   "metadata": {},
   "outputs": [],
   "source": [
    "playlist_song_name=[]"
   ]
  },
  {
   "cell_type": "code",
   "execution_count": 31,
   "id": "4d9a1022",
   "metadata": {},
   "outputs": [],
   "source": [
    "for i in range(len(all_tracks)):\n",
    "    try:\n",
    "        playlist_song_name.append(all_tracks[i]['track']['name'])\n",
    "    except:\n",
    "        playlist_song_name.append('none')"
   ]
  },
  {
   "cell_type": "code",
   "execution_count": 32,
   "id": "5f3fb10a",
   "metadata": {},
   "outputs": [
    {
     "data": {
      "text/plain": [
       "10000"
      ]
     },
     "execution_count": 32,
     "metadata": {},
     "output_type": "execute_result"
    }
   ],
   "source": [
    "len(playlist_song_name)"
   ]
  },
  {
   "cell_type": "code",
   "execution_count": 33,
   "id": "c71230e1",
   "metadata": {},
   "outputs": [],
   "source": [
    "playlist=pd.DataFrame(\n",
    "    {'song_name': playlist_song_name,\n",
    "     'artists': playlist_artist,\n",
    "     'uri': playlist_uri\n",
    "    })"
   ]
  },
  {
   "cell_type": "code",
   "execution_count": 34,
   "id": "12cbc9ca",
   "metadata": {},
   "outputs": [
    {
     "data": {
      "text/plain": [
       "Summertime                                          6\n",
       "Crazy                                               4\n",
       "Fire                                                4\n",
       "Girlfriend                                          4\n",
       "Runaway                                             3\n",
       "                                                   ..\n",
       "Chinese Rocks - L.A.M.F. - the Track LP restored    1\n",
       "Rez                                                 1\n",
       "Keep On Running - Mono Version                      1\n",
       "ghostin                                             1\n",
       "Come Dancing                                        1\n",
       "Name: song_name, Length: 9689, dtype: int64"
      ]
     },
     "execution_count": 34,
     "metadata": {},
     "output_type": "execute_result"
    }
   ],
   "source": [
    "playlist.song_name.value_counts()"
   ]
  },
  {
   "cell_type": "code",
   "execution_count": null,
   "id": "6ea9ff9a",
   "metadata": {},
   "outputs": [],
   "source": [
    "playlist.artists.value_counts()"
   ]
  },
  {
   "cell_type": "code",
   "execution_count": null,
   "id": "f5918562",
   "metadata": {},
   "outputs": [],
   "source": [
    "playlist['uri'].isna().sum()"
   ]
  },
  {
   "cell_type": "code",
   "execution_count": null,
   "id": "2e1a5f04",
   "metadata": {},
   "outputs": [],
   "source": [
    "playlist.isna().sum()"
   ]
  },
  {
   "cell_type": "code",
   "execution_count": null,
   "id": "225f8cdb",
   "metadata": {},
   "outputs": [],
   "source": [
    "playlist['uri'][0]"
   ]
  },
  {
   "cell_type": "code",
   "execution_count": null,
   "id": "3f681961",
   "metadata": {},
   "outputs": [],
   "source": [
    "song_uri = playlist['uri'][0]"
   ]
  },
  {
   "cell_type": "code",
   "execution_count": null,
   "id": "3edc1399",
   "metadata": {},
   "outputs": [],
   "source": [
    "sp.audio_features(song_uri)"
   ]
  },
  {
   "cell_type": "code",
   "execution_count": null,
   "id": "17dd1664",
   "metadata": {},
   "outputs": [],
   "source": [
    "# audio_features = []\n",
    "# counter = 0  # setting a counter so that we can stop the code for 10 seconds when counter is 100\n",
    "\n",
    "# for item in playlist_uri:\n",
    "#     features = sp.audio_features(item)\n",
    "#     audio_features.append(features)\n",
    "\n",
    "#     counter = counter + 1\n",
    "    \n",
    "#     if counter % 100 == 0:\n",
    "#         sleep(10)"
   ]
  },
  {
   "cell_type": "code",
   "execution_count": null,
   "id": "d5fc5215",
   "metadata": {},
   "outputs": [],
   "source": [
    "[None] in audio_features # some of the audiofeatures have [None] because there was no trackuri"
   ]
  },
  {
   "cell_type": "code",
   "execution_count": null,
   "id": "4eb0b442",
   "metadata": {},
   "outputs": [],
   "source": [
    "danceability = []\n",
    "energy = []\n",
    "loudness = []\n",
    "speechiness = []\n",
    "acousticness = []\n",
    "instrumentalness = []\n",
    "liveness = []\n",
    "valence = []\n",
    "tempo = []"
   ]
  },
  {
   "cell_type": "code",
   "execution_count": null,
   "id": "777f49a3",
   "metadata": {},
   "outputs": [],
   "source": [
    "for i in range(len(audio_features)):\n",
    "    #making sure we only run the for loop when it is not [None]\n",
    "    if audio_features[i] != [None]:  \n",
    "        danceability.append(audio_features[i][0]['danceability'])\n",
    "        energy.append(audio_features[i][0]['energy'])\n",
    "        loudness.append(audio_features[i][0]['loudness'])\n",
    "        speechiness.append(audio_features[i][0]['speechiness'])\n",
    "        acousticness.append(audio_features[i][0]['acousticness'])\n",
    "        instrumentalness.append(audio_features[i][0]['instrumentalness'])\n",
    "        liveness.append(audio_features[i][0]['liveness'])\n",
    "        valence.append(audio_features[i][0]['valence'])\n",
    "        tempo.append(audio_features[i][0]['tempo'])"
   ]
  },
  {
   "cell_type": "code",
   "execution_count": null,
   "id": "92af9b18",
   "metadata": {},
   "outputs": [],
   "source": [
    "features = pd.DataFrame({'danceability' : danceability,\n",
    "                          'energy': energy,\n",
    "                          'loudness': loudness,\n",
    "                          'speechiness': speechiness,\n",
    "                           'acousticness': acousticness,\n",
    "                           'instrumentalness': instrumentalness,\n",
    "                           'liveness': liveness,\n",
    "                           'valence': valence,\n",
    "                           'tempo': tempo\n",
    "                          })"
   ]
  },
  {
   "cell_type": "code",
   "execution_count": null,
   "id": "953e0e27",
   "metadata": {},
   "outputs": [],
   "source": [
    "features"
   ]
  },
  {
   "cell_type": "code",
   "execution_count": null,
   "id": "89767365",
   "metadata": {},
   "outputs": [],
   "source": [
    "spotify = pd.concat([playlist, features], axis=1)"
   ]
  },
  {
   "cell_type": "code",
   "execution_count": null,
   "id": "e8bec9b0",
   "metadata": {},
   "outputs": [],
   "source": [
    "spotify.head()"
   ]
  },
  {
   "cell_type": "code",
   "execution_count": null,
   "id": "d5ecd082",
   "metadata": {},
   "outputs": [],
   "source": [
    "spotify.to_csv('spotify_final.csv')"
   ]
  },
  {
   "cell_type": "code",
   "execution_count": null,
   "id": "f631ada4",
   "metadata": {},
   "outputs": [],
   "source": [
    "features_df = pd.DataFrame(features)\n",
    "features_df.head()\n",
    "features.shape"
   ]
  },
  {
   "cell_type": "code",
   "execution_count": null,
   "id": "8ce3bc83",
   "metadata": {},
   "outputs": [],
   "source": [
    "spotify.describe().T   \n",
    "#we need to scale in order for all features to have the same weight"
   ]
  },
  {
   "cell_type": "code",
   "execution_count": null,
   "id": "c3a45488",
   "metadata": {},
   "outputs": [],
   "source": [
    "from sklearn.preprocessing import StandardScaler\n",
    "X = StandardScaler().fit_transform(features_df)"
   ]
  },
  {
   "cell_type": "code",
   "execution_count": null,
   "id": "92fafdd6",
   "metadata": {},
   "outputs": [],
   "source": [
    "pd.DataFrame(X,columns=features_df.columns).head()"
   ]
  },
  {
   "cell_type": "code",
   "execution_count": null,
   "id": "36868e68",
   "metadata": {},
   "outputs": [],
   "source": [
    "import numpy as np\n",
    "from sklearn.cluster import KMeans\n",
    "K = range(3, 10)\n",
    "inertia = []\n",
    "\n",
    "\n",
    "for k in K:\n",
    "    kmeans = KMeans(n_clusters=k)\n",
    "    kmeans.fit(X)\n",
    "    inertia.append(kmeans.inertia_)"
   ]
  },
  {
   "cell_type": "code",
   "execution_count": null,
   "id": "27494800",
   "metadata": {},
   "outputs": [],
   "source": [
    "import matplotlib.pyplot as plt\n",
    "%matplotlib inline\n",
    "\n",
    "plt.figure(figsize=(16,8))\n",
    "plt.plot(K, inertia, 'bx-')\n",
    "plt.xlabel('k')\n",
    "plt.ylabel('inertia')\n",
    "plt.xticks(np.arange(min(K), max(K)+1, 1.0))\n",
    "plt.title('Elbow Method showing the optimal k')"
   ]
  },
  {
   "cell_type": "code",
   "execution_count": null,
   "id": "2098b1c4",
   "metadata": {},
   "outputs": [],
   "source": [
    "from sklearn.metrics import silhouette_score\n",
    "K = range(3, 10)\n",
    "silhouette = []\n",
    "\n",
    "for k in K:\n",
    "    kmeans = KMeans(n_clusters=k)\n",
    "    kmeans.fit(X)\n",
    "    silhouette.append(silhouette_score(X, kmeans.predict(X)))\n",
    "\n",
    "\n",
    "plt.figure(figsize=(16,8))\n",
    "plt.plot(K, silhouette, 'bx-')\n",
    "plt.xlabel('k')\n",
    "plt.ylabel('silhouette score')\n",
    "plt.xticks(np.arange(min(K), max(K)+1, 1.0))\n",
    "plt.title('Slhouette score showing the optimal k')"
   ]
  },
  {
   "cell_type": "code",
   "execution_count": null,
   "id": "d6b8d97a",
   "metadata": {},
   "outputs": [],
   "source": [
    "# optimal k looks like 6"
   ]
  },
  {
   "cell_type": "code",
   "execution_count": null,
   "id": "a5072150",
   "metadata": {},
   "outputs": [],
   "source": [
    "kmeans = KMeans(n_clusters=6)\n",
    "kmeans.fit(X)\n",
    "\n",
    "clusters = kmeans.predict(X)\n",
    "\n",
    "# Check the size of the clusters\n",
    "pd.Series(clusters).value_counts().sort_index()"
   ]
  },
  {
   "cell_type": "code",
   "execution_count": null,
   "id": "f942a424",
   "metadata": {},
   "outputs": [],
   "source": [
    "#loop for plotting first(0) column with all the rest starting from energy\n",
    "for i in range(1,len(features_df.columns)):    \n",
    "    plt.figure(figsize=(5, 5))\n",
    "    plt.scatter(X[:, 0], X[:, i], c=clusters,alpha=0.5)\n",
    "    plt.title(f'Danceability vs {features_df.columns[i]}')\n",
    "    plt.show()\n",
    "#from Asha"
   ]
  },
  {
   "cell_type": "code",
   "execution_count": null,
   "id": "b2277d45",
   "metadata": {},
   "outputs": [],
   "source": [
    "data = pd.read_csv('spotify_final.csv')\n",
    "# data.head()"
   ]
  },
  {
   "cell_type": "code",
   "execution_count": null,
   "id": "b75c8bd9",
   "metadata": {},
   "outputs": [],
   "source": [
    "data.shape"
   ]
  },
  {
   "cell_type": "code",
   "execution_count": null,
   "id": "f4c9dd77",
   "metadata": {},
   "outputs": [],
   "source": [
    "data = data.drop('Unnamed: 0', axis=1)\n",
    "data.head()"
   ]
  },
  {
   "cell_type": "code",
   "execution_count": null,
   "id": "5f2f07b0",
   "metadata": {},
   "outputs": [],
   "source": [
    "data['cluster'] = clusters\n",
    "data.head()"
   ]
  },
  {
   "cell_type": "code",
   "execution_count": null,
   "id": "8f0877a2",
   "metadata": {},
   "outputs": [],
   "source": [
    "clusters.sum()"
   ]
  },
  {
   "cell_type": "code",
   "execution_count": null,
   "id": "16a90f85",
   "metadata": {},
   "outputs": [],
   "source": []
  }
 ],
 "metadata": {
  "kernelspec": {
   "display_name": "Python 3 (ipykernel)",
   "language": "python",
   "name": "python3"
  },
  "language_info": {
   "codemirror_mode": {
    "name": "ipython",
    "version": 3
   },
   "file_extension": ".py",
   "mimetype": "text/x-python",
   "name": "python",
   "nbconvert_exporter": "python",
   "pygments_lexer": "ipython3",
   "version": "3.9.7"
  }
 },
 "nbformat": 4,
 "nbformat_minor": 5
}
