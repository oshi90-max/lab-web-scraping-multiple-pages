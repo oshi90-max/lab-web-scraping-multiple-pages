{
 "cells": [
  {
   "cell_type": "code",
   "execution_count": 13,
   "id": "a2915ea2",
   "metadata": {},
   "outputs": [],
   "source": [
    "from bs4 import BeautifulSoup\n",
    "import requests\n",
    "import pandas as pd"
   ]
  },
  {
   "cell_type": "code",
   "execution_count": 14,
   "id": "d142ed11",
   "metadata": {},
   "outputs": [],
   "source": [
    "url = \"https://www.popvortex.com/music/charts/top-100-songs.php\""
   ]
  },
  {
   "cell_type": "code",
   "execution_count": 15,
   "id": "4f1b78f4",
   "metadata": {},
   "outputs": [
    {
     "data": {
      "text/plain": [
       "200"
      ]
     },
     "execution_count": 15,
     "metadata": {},
     "output_type": "execute_result"
    }
   ],
   "source": [
    "response = requests.get(url)\n",
    "response.status_code"
   ]
  },
  {
   "cell_type": "code",
   "execution_count": 16,
   "id": "a087adcd",
   "metadata": {},
   "outputs": [],
   "source": [
    "#parse html (create the 'soup')\n",
    "soup = BeautifulSoup(response.content, \"html.parser\")"
   ]
  },
  {
   "cell_type": "code",
   "execution_count": 58,
   "id": "0f1c6de4",
   "metadata": {},
   "outputs": [],
   "source": [
    "# print(soup.prettify())"
   ]
  },
  {
   "cell_type": "code",
   "execution_count": null,
   "id": "c1be92a4",
   "metadata": {},
   "outputs": [],
   "source": [
    "#chart-position-1 > div.chart-content.col-xs-12.col-sm-8 > p"
   ]
  },
  {
   "cell_type": "code",
   "execution_count": 18,
   "id": "cf97149f",
   "metadata": {},
   "outputs": [
    {
     "data": {
      "text/plain": [
       "[<p class=\"title-artist\"><cite class=\"title\">About Damn Time</cite><em class=\"artist\">Lizzo</em></p>]"
      ]
     },
     "execution_count": 18,
     "metadata": {},
     "output_type": "execute_result"
    }
   ],
   "source": [
    "soup.select(\"#chart-position-1 > div.chart-content.col-xs-12.col-sm-8 > p\")"
   ]
  },
  {
   "cell_type": "code",
   "execution_count": 59,
   "id": "057e5744",
   "metadata": {},
   "outputs": [],
   "source": [
    "# soup.select(\"div.chart-content.col-xs-12.col-sm-8 > p\") "
   ]
  },
  {
   "cell_type": "code",
   "execution_count": 36,
   "id": "a242bfb5",
   "metadata": {},
   "outputs": [
    {
     "data": {
      "text/plain": [
       "<p class=\"title-artist\"><cite class=\"title\">About Damn Time</cite><em class=\"artist\">Lizzo</em></p>"
      ]
     },
     "execution_count": 36,
     "metadata": {},
     "output_type": "execute_result"
    }
   ],
   "source": [
    "soup.select(\"div.chart-content.col-xs-12.col-sm-8 > p\")[0]"
   ]
  },
  {
   "cell_type": "code",
   "execution_count": 34,
   "id": "216a0b70",
   "metadata": {},
   "outputs": [
    {
     "data": {
      "text/plain": [
       "'About Damn TimeLizzo'"
      ]
     },
     "execution_count": 34,
     "metadata": {},
     "output_type": "execute_result"
    }
   ],
   "source": [
    "soup.select(\"div.chart-content.col-xs-12.col-sm-8 > p\")[0].get_text()"
   ]
  },
  {
   "cell_type": "code",
   "execution_count": 60,
   "id": "4d8316a7",
   "metadata": {},
   "outputs": [],
   "source": [
    "# soup.select(\"p.title-artist\")"
   ]
  },
  {
   "cell_type": "code",
   "execution_count": 52,
   "id": "b97b3657",
   "metadata": {},
   "outputs": [
    {
     "data": {
      "text/plain": [
       "'About Damn Time'"
      ]
     },
     "execution_count": 52,
     "metadata": {},
     "output_type": "execute_result"
    }
   ],
   "source": [
    "soup.select(\"p.title-artist cite.title\")[0].get_text()"
   ]
  },
  {
   "cell_type": "code",
   "execution_count": 53,
   "id": "a70dc27d",
   "metadata": {},
   "outputs": [
    {
     "data": {
      "text/plain": [
       "'Lizzo'"
      ]
     },
     "execution_count": 53,
     "metadata": {},
     "output_type": "execute_result"
    }
   ],
   "source": [
    "soup.select(\"p.title-artist em.artist\")[0].get_text()"
   ]
  },
  {
   "cell_type": "code",
   "execution_count": 64,
   "id": "587d68f0",
   "metadata": {},
   "outputs": [],
   "source": [
    "title=[]\n",
    "artist=[]\n",
    "\n",
    "\n",
    "title_list=soup.select(\"p.title-artist cite.title\")\n",
    "artist_list=soup.select(\"p.title-artist em.artist\")\n",
    "\n",
    "num_iter = len(soup.select(\"p.title-artist\"))\n",
    "\n",
    "for i in range(num_iter):\n",
    "    title.append(title_list[i].get_text())\n",
    "    artist.append(artist_list[i].get_text())\n",
    "\n",
    "# print (title)\n",
    "# print (artist)"
   ]
  },
  {
   "cell_type": "code",
   "execution_count": 56,
   "id": "9852abdb",
   "metadata": {},
   "outputs": [],
   "source": [
    "songs = pd.DataFrame({\"title\":title,\n",
    "                       \"artist\":artist\n",
    "                      })"
   ]
  },
  {
   "cell_type": "code",
   "execution_count": 57,
   "id": "2b2873e2",
   "metadata": {},
   "outputs": [
    {
     "data": {
      "text/html": [
       "<div>\n",
       "<style scoped>\n",
       "    .dataframe tbody tr th:only-of-type {\n",
       "        vertical-align: middle;\n",
       "    }\n",
       "\n",
       "    .dataframe tbody tr th {\n",
       "        vertical-align: top;\n",
       "    }\n",
       "\n",
       "    .dataframe thead th {\n",
       "        text-align: right;\n",
       "    }\n",
       "</style>\n",
       "<table border=\"1\" class=\"dataframe\">\n",
       "  <thead>\n",
       "    <tr style=\"text-align: right;\">\n",
       "      <th></th>\n",
       "      <th>title</th>\n",
       "      <th>artist</th>\n",
       "    </tr>\n",
       "  </thead>\n",
       "  <tbody>\n",
       "    <tr>\n",
       "      <th>0</th>\n",
       "      <td>About Damn Time</td>\n",
       "      <td>Lizzo</td>\n",
       "    </tr>\n",
       "    <tr>\n",
       "      <th>1</th>\n",
       "      <td>Running Up That Hill (A Deal with God)</td>\n",
       "      <td>Kate Bush</td>\n",
       "    </tr>\n",
       "    <tr>\n",
       "      <th>2</th>\n",
       "      <td>Y'all Life</td>\n",
       "      <td>Walker Hayes</td>\n",
       "    </tr>\n",
       "    <tr>\n",
       "      <th>3</th>\n",
       "      <td>Names</td>\n",
       "      <td>Tom MacDonald</td>\n",
       "    </tr>\n",
       "    <tr>\n",
       "      <th>4</th>\n",
       "      <td>BREAK MY SOUL</td>\n",
       "      <td>Beyoncé</td>\n",
       "    </tr>\n",
       "  </tbody>\n",
       "</table>\n",
       "</div>"
      ],
      "text/plain": [
       "                                    title         artist\n",
       "0                         About Damn Time          Lizzo\n",
       "1  Running Up That Hill (A Deal with God)      Kate Bush\n",
       "2                              Y'all Life   Walker Hayes\n",
       "3                                   Names  Tom MacDonald\n",
       "4                           BREAK MY SOUL        Beyoncé"
      ]
     },
     "execution_count": 57,
     "metadata": {},
     "output_type": "execute_result"
    }
   ],
   "source": [
    "songs.head()"
   ]
  },
  {
   "cell_type": "markdown",
   "id": "4de19197",
   "metadata": {},
   "source": [
    "# second lab"
   ]
  },
  {
   "cell_type": "code",
   "execution_count": 61,
   "id": "0444ac27",
   "metadata": {},
   "outputs": [],
   "source": [
    "url = \"https://www.officialcharts.com/charts/singles-chart/\""
   ]
  },
  {
   "cell_type": "code",
   "execution_count": 62,
   "id": "085edbda",
   "metadata": {},
   "outputs": [
    {
     "data": {
      "text/plain": [
       "200"
      ]
     },
     "execution_count": 62,
     "metadata": {},
     "output_type": "execute_result"
    }
   ],
   "source": [
    "response = requests.get(url)\n",
    "response.status_code"
   ]
  },
  {
   "cell_type": "code",
   "execution_count": 63,
   "id": "a0db1c7c",
   "metadata": {},
   "outputs": [],
   "source": [
    "soup = BeautifulSoup(response.content, \"html.parser\")"
   ]
  },
  {
   "cell_type": "code",
   "execution_count": 89,
   "id": "1407b83e",
   "metadata": {},
   "outputs": [],
   "source": [
    "# print(soup.prettify())"
   ]
  },
  {
   "cell_type": "code",
   "execution_count": 83,
   "id": "2e13558e",
   "metadata": {},
   "outputs": [
    {
     "name": "stdout",
     "output_type": "stream",
     "text": [
      "AFRAID TO FEEL\n"
     ]
    }
   ],
   "source": [
    "print(soup.select(\"div.title a\")[0].get_text())"
   ]
  },
  {
   "cell_type": "code",
   "execution_count": 84,
   "id": "7adf0746",
   "metadata": {},
   "outputs": [
    {
     "name": "stdout",
     "output_type": "stream",
     "text": [
      "LF SYSTEM\n"
     ]
    }
   ],
   "source": [
    "print(soup.select(\"div.artist a\")[0].get_text())"
   ]
  },
  {
   "cell_type": "code",
   "execution_count": 88,
   "id": "2e13f57c",
   "metadata": {},
   "outputs": [],
   "source": [
    "title2=[]\n",
    "artist2=[]\n",
    "\n",
    "\n",
    "title_list2=soup.select(\"div.title a\")\n",
    "artist_list2=soup.select(\"div.artist a\")\n",
    "\n",
    "num_iter2 = len(soup.select(\"div.artist\"))\n",
    "\n",
    "for i in range(num_iter2):\n",
    "    title2.append(title_list2[i].get_text())\n",
    "    artist2.append(artist_list2[i].get_text())\n",
    "\n",
    "# print (title2)\n",
    "# print (artist2)"
   ]
  },
  {
   "cell_type": "code",
   "execution_count": 86,
   "id": "87d88919",
   "metadata": {},
   "outputs": [],
   "source": [
    "songs2 = pd.DataFrame({\"title\":title2,\n",
    "                       \"artist\":artist2\n",
    "                      })"
   ]
  },
  {
   "cell_type": "code",
   "execution_count": 87,
   "id": "6eeaddd1",
   "metadata": {},
   "outputs": [
    {
     "data": {
      "text/html": [
       "<div>\n",
       "<style scoped>\n",
       "    .dataframe tbody tr th:only-of-type {\n",
       "        vertical-align: middle;\n",
       "    }\n",
       "\n",
       "    .dataframe tbody tr th {\n",
       "        vertical-align: top;\n",
       "    }\n",
       "\n",
       "    .dataframe thead th {\n",
       "        text-align: right;\n",
       "    }\n",
       "</style>\n",
       "<table border=\"1\" class=\"dataframe\">\n",
       "  <thead>\n",
       "    <tr style=\"text-align: right;\">\n",
       "      <th></th>\n",
       "      <th>title</th>\n",
       "      <th>artist</th>\n",
       "    </tr>\n",
       "  </thead>\n",
       "  <tbody>\n",
       "    <tr>\n",
       "      <th>0</th>\n",
       "      <td>AFRAID TO FEEL</td>\n",
       "      <td>LF SYSTEM</td>\n",
       "    </tr>\n",
       "    <tr>\n",
       "      <th>1</th>\n",
       "      <td>AS IT WAS</td>\n",
       "      <td>HARRY STYLES</td>\n",
       "    </tr>\n",
       "    <tr>\n",
       "      <th>2</th>\n",
       "      <td>GREEN GREEN GRASS</td>\n",
       "      <td>GEORGE EZRA</td>\n",
       "    </tr>\n",
       "    <tr>\n",
       "      <th>3</th>\n",
       "      <td>BREAK MY SOUL</td>\n",
       "      <td>BEYONCE</td>\n",
       "    </tr>\n",
       "    <tr>\n",
       "      <th>4</th>\n",
       "      <td>RUNNING UP THAT HILL</td>\n",
       "      <td>KATE BUSH</td>\n",
       "    </tr>\n",
       "  </tbody>\n",
       "</table>\n",
       "</div>"
      ],
      "text/plain": [
       "                  title        artist\n",
       "0        AFRAID TO FEEL     LF SYSTEM\n",
       "1             AS IT WAS  HARRY STYLES\n",
       "2     GREEN GREEN GRASS   GEORGE EZRA\n",
       "3         BREAK MY SOUL       BEYONCE\n",
       "4  RUNNING UP THAT HILL     KATE BUSH"
      ]
     },
     "execution_count": 87,
     "metadata": {},
     "output_type": "execute_result"
    }
   ],
   "source": [
    "songs2.head()"
   ]
  },
  {
   "cell_type": "code",
   "execution_count": null,
   "id": "c6fdd818",
   "metadata": {},
   "outputs": [],
   "source": [
    "# FBI"
   ]
  },
  {
   "cell_type": "code",
   "execution_count": 90,
   "id": "56c630dd",
   "metadata": {},
   "outputs": [],
   "source": [
    "url=\"https://www.fbi.gov/wanted/topten\""
   ]
  },
  {
   "cell_type": "code",
   "execution_count": 91,
   "id": "fe719804",
   "metadata": {},
   "outputs": [
    {
     "data": {
      "text/plain": [
       "200"
      ]
     },
     "execution_count": 91,
     "metadata": {},
     "output_type": "execute_result"
    }
   ],
   "source": [
    "response = requests.get(url)\n",
    "response.status_code"
   ]
  },
  {
   "cell_type": "code",
   "execution_count": 104,
   "id": "3631e900",
   "metadata": {},
   "outputs": [],
   "source": [
    "soup = BeautifulSoup(response.content, \"html.parser\")\n",
    "# print(soup.prettify())"
   ]
  },
  {
   "cell_type": "code",
   "execution_count": 97,
   "id": "2288941a",
   "metadata": {},
   "outputs": [
    {
     "name": "stdout",
     "output_type": "stream",
     "text": [
      "[]\n"
     ]
    }
   ],
   "source": [
    "print(soup.select(\"#query-results-0f737222c5054a81a120bce207b0446a > ul > li:nth-child(1) > h3 > a \"))"
   ]
  },
  {
   "cell_type": "code",
   "execution_count": 99,
   "id": "7ccd0835",
   "metadata": {},
   "outputs": [
    {
     "name": "stdout",
     "output_type": "stream",
     "text": [
      "JASON DEREK BROWN\n"
     ]
    }
   ],
   "source": [
    "print(soup.select(\"h3.title a\")[0].get_text())"
   ]
  },
  {
   "cell_type": "code",
   "execution_count": 100,
   "id": "11fe9ab9",
   "metadata": {},
   "outputs": [
    {
     "name": "stdout",
     "output_type": "stream",
     "text": [
      "['JASON DEREK BROWN', 'RUJA IGNATOVA', 'ARNOLDO JIMENEZ', 'ALEXIS FLORES', 'JOSE RODOLFO VILLARREAL-HERNANDEZ', 'YULAN ADONAY ARCHAGA CARIAS', 'RAFAEL CARO-QUINTERO', 'EUGENE PALMER', 'BHADRESHKUMAR CHETANBHAI PATEL', 'ALEJANDRO ROSALES CASTILLO']\n"
     ]
    }
   ],
   "source": [
    "names=[]\n",
    "\n",
    "name_list=soup.select(\"h3.title a\")\n",
    "\n",
    "num_iter3 = len(soup.select(\"h3.title a\"))\n",
    "\n",
    "for i in range(num_iter3):\n",
    "    names.append(name_list[i].get_text())\n",
    "\n",
    "\n",
    "print (names)"
   ]
  },
  {
   "cell_type": "code",
   "execution_count": 101,
   "id": "45590339",
   "metadata": {},
   "outputs": [],
   "source": [
    "wanted = pd.DataFrame({\"name\":names})"
   ]
  },
  {
   "cell_type": "code",
   "execution_count": 102,
   "id": "b957e1fd",
   "metadata": {},
   "outputs": [
    {
     "data": {
      "text/html": [
       "<div>\n",
       "<style scoped>\n",
       "    .dataframe tbody tr th:only-of-type {\n",
       "        vertical-align: middle;\n",
       "    }\n",
       "\n",
       "    .dataframe tbody tr th {\n",
       "        vertical-align: top;\n",
       "    }\n",
       "\n",
       "    .dataframe thead th {\n",
       "        text-align: right;\n",
       "    }\n",
       "</style>\n",
       "<table border=\"1\" class=\"dataframe\">\n",
       "  <thead>\n",
       "    <tr style=\"text-align: right;\">\n",
       "      <th></th>\n",
       "      <th>name</th>\n",
       "    </tr>\n",
       "  </thead>\n",
       "  <tbody>\n",
       "    <tr>\n",
       "      <th>0</th>\n",
       "      <td>JASON DEREK BROWN</td>\n",
       "    </tr>\n",
       "    <tr>\n",
       "      <th>1</th>\n",
       "      <td>RUJA IGNATOVA</td>\n",
       "    </tr>\n",
       "    <tr>\n",
       "      <th>2</th>\n",
       "      <td>ARNOLDO JIMENEZ</td>\n",
       "    </tr>\n",
       "    <tr>\n",
       "      <th>3</th>\n",
       "      <td>ALEXIS FLORES</td>\n",
       "    </tr>\n",
       "    <tr>\n",
       "      <th>4</th>\n",
       "      <td>JOSE RODOLFO VILLARREAL-HERNANDEZ</td>\n",
       "    </tr>\n",
       "  </tbody>\n",
       "</table>\n",
       "</div>"
      ],
      "text/plain": [
       "                                name\n",
       "0                  JASON DEREK BROWN\n",
       "1                      RUJA IGNATOVA\n",
       "2                    ARNOLDO JIMENEZ\n",
       "3                      ALEXIS FLORES\n",
       "4  JOSE RODOLFO VILLARREAL-HERNANDEZ"
      ]
     },
     "execution_count": 102,
     "metadata": {},
     "output_type": "execute_result"
    }
   ],
   "source": [
    "wanted.head()"
   ]
  },
  {
   "cell_type": "code",
   "execution_count": null,
   "id": "088596a4",
   "metadata": {},
   "outputs": [],
   "source": [
    "# languages"
   ]
  },
  {
   "cell_type": "code",
   "execution_count": 103,
   "id": "09a2ab6e",
   "metadata": {},
   "outputs": [
    {
     "data": {
      "text/plain": [
       "200"
      ]
     },
     "execution_count": 103,
     "metadata": {},
     "output_type": "execute_result"
    }
   ],
   "source": [
    "url = \"https://en.wikipedia.org/wiki/List_of_languages_by_number_of_native_speakers\"\n",
    "response = requests.get(url)\n",
    "response.status_code"
   ]
  },
  {
   "cell_type": "code",
   "execution_count": 106,
   "id": "a9493d70",
   "metadata": {},
   "outputs": [],
   "source": [
    "soup = BeautifulSoup(response.content, \"html.parser\")\n",
    "# print(soup.prettify())"
   ]
  },
  {
   "cell_type": "code",
   "execution_count": 109,
   "id": "a4f2fa6a",
   "metadata": {},
   "outputs": [],
   "source": [
    "# print(soup.select(\"td a\"))"
   ]
  },
  {
   "cell_type": "code",
   "execution_count": 108,
   "id": "44fdb165",
   "metadata": {},
   "outputs": [
    {
     "name": "stdout",
     "output_type": "stream",
     "text": [
      "['Mandarin Chinese', 'Sino-Tibetan', 'Sinitic', 'Spanish', 'Indo-European', 'Romance', 'English', 'Indo-European', 'Germanic', 'Hindi']\n"
     ]
    },
    {
     "data": {
      "text/plain": [
       "['Mandarin Chinese',\n",
       " 'Sino-Tibetan',\n",
       " 'Sinitic',\n",
       " 'Spanish',\n",
       " 'Indo-European',\n",
       " 'Romance',\n",
       " 'English',\n",
       " 'Indo-European',\n",
       " 'Germanic',\n",
       " 'Hindi']"
      ]
     },
     "execution_count": 108,
     "metadata": {},
     "output_type": "execute_result"
    }
   ],
   "source": [
    "lang=[]\n",
    "lang_list=soup.select(\"td a\")\n",
    "num_iter4 = len(soup.select(\"td a\"))\n",
    "for i in range(num_iter4):\n",
    "    lang.append(lang_list[i].get_text())\n",
    "print(lang[:10])\n",
    "top10 = lang[:10]\n",
    "top10"
   ]
  },
  {
   "cell_type": "code",
   "execution_count": 111,
   "id": "66aecb3d",
   "metadata": {},
   "outputs": [
    {
     "data": {
      "text/html": [
       "<div>\n",
       "<style scoped>\n",
       "    .dataframe tbody tr th:only-of-type {\n",
       "        vertical-align: middle;\n",
       "    }\n",
       "\n",
       "    .dataframe tbody tr th {\n",
       "        vertical-align: top;\n",
       "    }\n",
       "\n",
       "    .dataframe thead th {\n",
       "        text-align: right;\n",
       "    }\n",
       "</style>\n",
       "<table border=\"1\" class=\"dataframe\">\n",
       "  <thead>\n",
       "    <tr style=\"text-align: right;\">\n",
       "      <th></th>\n",
       "      <th>language</th>\n",
       "    </tr>\n",
       "  </thead>\n",
       "  <tbody>\n",
       "    <tr>\n",
       "      <th>0</th>\n",
       "      <td>Mandarin Chinese</td>\n",
       "    </tr>\n",
       "    <tr>\n",
       "      <th>1</th>\n",
       "      <td>Sino-Tibetan</td>\n",
       "    </tr>\n",
       "    <tr>\n",
       "      <th>2</th>\n",
       "      <td>Sinitic</td>\n",
       "    </tr>\n",
       "    <tr>\n",
       "      <th>3</th>\n",
       "      <td>Spanish</td>\n",
       "    </tr>\n",
       "    <tr>\n",
       "      <th>4</th>\n",
       "      <td>Indo-European</td>\n",
       "    </tr>\n",
       "    <tr>\n",
       "      <th>5</th>\n",
       "      <td>Romance</td>\n",
       "    </tr>\n",
       "    <tr>\n",
       "      <th>6</th>\n",
       "      <td>English</td>\n",
       "    </tr>\n",
       "    <tr>\n",
       "      <th>7</th>\n",
       "      <td>Indo-European</td>\n",
       "    </tr>\n",
       "    <tr>\n",
       "      <th>8</th>\n",
       "      <td>Germanic</td>\n",
       "    </tr>\n",
       "    <tr>\n",
       "      <th>9</th>\n",
       "      <td>Hindi</td>\n",
       "    </tr>\n",
       "  </tbody>\n",
       "</table>\n",
       "</div>"
      ],
      "text/plain": [
       "           language\n",
       "0  Mandarin Chinese\n",
       "1      Sino-Tibetan\n",
       "2           Sinitic\n",
       "3           Spanish\n",
       "4     Indo-European\n",
       "5           Romance\n",
       "6           English\n",
       "7     Indo-European\n",
       "8          Germanic\n",
       "9             Hindi"
      ]
     },
     "execution_count": 111,
     "metadata": {},
     "output_type": "execute_result"
    }
   ],
   "source": [
    "top_10 = pd.DataFrame({\"language\":top10})\n",
    "top_10"
   ]
  },
  {
   "cell_type": "code",
   "execution_count": null,
   "id": "6c5123b5",
   "metadata": {},
   "outputs": [],
   "source": []
  }
 ],
 "metadata": {
  "kernelspec": {
   "display_name": "Python 3 (ipykernel)",
   "language": "python",
   "name": "python3"
  },
  "language_info": {
   "codemirror_mode": {
    "name": "ipython",
    "version": 3
   },
   "file_extension": ".py",
   "mimetype": "text/x-python",
   "name": "python",
   "nbconvert_exporter": "python",
   "pygments_lexer": "ipython3",
   "version": "3.9.7"
  }
 },
 "nbformat": 4,
 "nbformat_minor": 5
}
