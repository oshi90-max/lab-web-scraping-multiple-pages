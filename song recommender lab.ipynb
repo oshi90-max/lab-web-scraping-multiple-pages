{
 "cells": [
  {
   "cell_type": "code",
   "execution_count": 45,
   "id": "e36f40e2",
   "metadata": {},
   "outputs": [],
   "source": [
    "from bs4 import BeautifulSoup\n",
    "import requests\n",
    "import pandas as pd\n",
    "import random"
   ]
  },
  {
   "cell_type": "code",
   "execution_count": 46,
   "id": "095f592e",
   "metadata": {},
   "outputs": [],
   "source": [
    "url = \"https://www.popvortex.com/music/charts/top-100-songs.php\""
   ]
  },
  {
   "cell_type": "code",
   "execution_count": 47,
   "id": "8d4c5924",
   "metadata": {},
   "outputs": [
    {
     "data": {
      "text/plain": [
       "200"
      ]
     },
     "execution_count": 47,
     "metadata": {},
     "output_type": "execute_result"
    }
   ],
   "source": [
    "response = requests.get(url)\n",
    "response.status_code"
   ]
  },
  {
   "cell_type": "code",
   "execution_count": 48,
   "id": "fe7f83cb",
   "metadata": {},
   "outputs": [],
   "source": [
    "soup = BeautifulSoup(response.content, \"html.parser\")"
   ]
  },
  {
   "cell_type": "code",
   "execution_count": 49,
   "id": "58c45ae5",
   "metadata": {},
   "outputs": [],
   "source": [
    "title=[]\n",
    "artist=[]\n",
    "\n",
    "\n",
    "title_list=soup.select(\"p.title-artist cite.title\")\n",
    "artist_list=soup.select(\"p.title-artist em.artist\")\n",
    "\n",
    "num_iter = len(soup.select(\"p.title-artist\"))\n",
    "\n",
    "for i in range(num_iter):\n",
    "    title.append(title_list[i].get_text())\n",
    "    artist.append(artist_list[i].get_text())"
   ]
  },
  {
   "cell_type": "code",
   "execution_count": 50,
   "id": "1132c94c",
   "metadata": {},
   "outputs": [],
   "source": [
    "hot_songs = pd.DataFrame({\"title\":title,\n",
    "                       \"artist\":artist})"
   ]
  },
  {
   "cell_type": "code",
   "execution_count": 51,
   "id": "1e725d24",
   "metadata": {},
   "outputs": [
    {
     "data": {
      "text/html": [
       "<div>\n",
       "<style scoped>\n",
       "    .dataframe tbody tr th:only-of-type {\n",
       "        vertical-align: middle;\n",
       "    }\n",
       "\n",
       "    .dataframe tbody tr th {\n",
       "        vertical-align: top;\n",
       "    }\n",
       "\n",
       "    .dataframe thead th {\n",
       "        text-align: right;\n",
       "    }\n",
       "</style>\n",
       "<table border=\"1\" class=\"dataframe\">\n",
       "  <thead>\n",
       "    <tr style=\"text-align: right;\">\n",
       "      <th></th>\n",
       "      <th>title</th>\n",
       "      <th>artist</th>\n",
       "    </tr>\n",
       "  </thead>\n",
       "  <tbody>\n",
       "    <tr>\n",
       "      <th>0</th>\n",
       "      <td>About Damn Time</td>\n",
       "      <td>Lizzo</td>\n",
       "    </tr>\n",
       "    <tr>\n",
       "      <th>1</th>\n",
       "      <td>Running Up That Hill (A Deal with God)</td>\n",
       "      <td>Kate Bush</td>\n",
       "    </tr>\n",
       "    <tr>\n",
       "      <th>2</th>\n",
       "      <td>Irrelevant</td>\n",
       "      <td>P!nk</td>\n",
       "    </tr>\n",
       "    <tr>\n",
       "      <th>3</th>\n",
       "      <td>Y'all Life</td>\n",
       "      <td>Walker Hayes</td>\n",
       "    </tr>\n",
       "    <tr>\n",
       "      <th>4</th>\n",
       "      <td>Names</td>\n",
       "      <td>Tom MacDonald</td>\n",
       "    </tr>\n",
       "  </tbody>\n",
       "</table>\n",
       "</div>"
      ],
      "text/plain": [
       "                                    title         artist\n",
       "0                         About Damn Time          Lizzo\n",
       "1  Running Up That Hill (A Deal with God)      Kate Bush\n",
       "2                              Irrelevant           P!nk\n",
       "3                              Y'all Life   Walker Hayes\n",
       "4                                   Names  Tom MacDonald"
      ]
     },
     "execution_count": 51,
     "metadata": {},
     "output_type": "execute_result"
    }
   ],
   "source": [
    "hot_songs.head()"
   ]
  },
  {
   "cell_type": "code",
   "execution_count": 61,
   "id": "67155f7e",
   "metadata": {},
   "outputs": [],
   "source": [
    "hot_songs['title'] = hot_songs['title'].str.lower()\n",
    "hot_songs['artist'] = hot_songs['artist'].str.lower()"
   ]
  },
  {
   "cell_type": "code",
   "execution_count": 70,
   "id": "f32ac5fa",
   "metadata": {},
   "outputs": [],
   "source": [
    "# the function is taken from: https://albertoviciana.medium.com/my-first-song-recommender-96994af6d6bc\n",
    "\n",
    "\n",
    "def hot():\n",
    "    random_song=random.choice(hot_songs['title'])\n",
    "    user_input = input ('Choose a song you like:')\n",
    "    \n",
    "    if user_input.lower() not in list(hot_songs['title']):\n",
    "        print(\"Sorry, I have no recommendation\")\n",
    "    else:\n",
    "        print(\"If you like the song \" + \"'\" + user_input + \"'\" + \" then listen to this next: \" + \"'\" + random_song + \"'\")        "
   ]
  },
  {
   "cell_type": "code",
   "execution_count": 71,
   "id": "9789cee8",
   "metadata": {},
   "outputs": [
    {
     "name": "stdout",
     "output_type": "stream",
     "text": [
      "Choose a song you like:about damn time\n",
      "If you like the song 'about damn time' then listen to this next: 'when i was your man'\n"
     ]
    }
   ],
   "source": [
    "hot()"
   ]
  },
  {
   "cell_type": "code",
   "execution_count": 72,
   "id": "2ba2427d",
   "metadata": {},
   "outputs": [
    {
     "name": "stdout",
     "output_type": "stream",
     "text": [
      "Choose a song you like:sghyh\n",
      "Sorry, I have no recommendation\n"
     ]
    }
   ],
   "source": [
    "hot()"
   ]
  },
  {
   "cell_type": "code",
   "execution_count": null,
   "id": "8441e0a1",
   "metadata": {},
   "outputs": [],
   "source": []
  }
 ],
 "metadata": {
  "kernelspec": {
   "display_name": "Python 3 (ipykernel)",
   "language": "python",
   "name": "python3"
  },
  "language_info": {
   "codemirror_mode": {
    "name": "ipython",
    "version": 3
   },
   "file_extension": ".py",
   "mimetype": "text/x-python",
   "name": "python",
   "nbconvert_exporter": "python",
   "pygments_lexer": "ipython3",
   "version": "3.9.7"
  }
 },
 "nbformat": 4,
 "nbformat_minor": 5
}
